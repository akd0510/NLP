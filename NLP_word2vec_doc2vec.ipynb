{
 "cells": [
  {
   "cell_type": "markdown",
   "metadata": {},
   "source": [
    "# Libraries"
   ]
  },
  {
   "cell_type": "code",
   "execution_count": 169,
   "metadata": {},
   "outputs": [],
   "source": [
    "import pandas as pd\n",
    "import re\n",
    "import nltk\n",
    "from nltk.corpus import stopwords\n",
    "from nltk.tokenize import word_tokenize\n",
    "from nltk.tokenize import sent_tokenize\n",
    "from nltk.stem import WordNetLemmatizer\n",
    "from nltk.corpus import wordnet\n",
    "import multiprocessing\n",
    "from gensim.models import Word2Vec as w2v\n",
    "from time import time\n",
    "import sklearn\n",
    "from sklearn.manifold import TSNE\n",
    "import seaborn as sns\n",
    "sns.set_style(\"darkgrid\")\n",
    "import matplotlib.pyplot as plt\n",
    "%matplotlib inline\n",
    "from sklearn.cluster import KMeans\n",
    "from sklearn.decomposition import PCA\n",
    "from gensim.models.doc2vec import Doc2Vec as d2v, TaggedDocument\n",
    "\n",
    "from gensim.models import Word2Vec\n",
    "  \n",
    "from nltk.cluster import KMeansClusterer\n",
    "import nltk\n",
    "import numpy as np \n",
    "  \n",
    "from sklearn import cluster\n",
    "from sklearn import metrics\n",
    "import random"
   ]
  },
  {
   "cell_type": "markdown",
   "metadata": {},
   "source": [
    "# Reading Data"
   ]
  },
  {
   "cell_type": "code",
   "execution_count": 128,
   "metadata": {},
   "outputs": [
    {
     "data": {
      "text/plain": [
       "(279, 1)"
      ]
     },
     "execution_count": 128,
     "metadata": {},
     "output_type": "execute_result"
    }
   ],
   "source": [
    "df= pd.read_csv('E:/project/NLP/Data.csv')\n",
    "df.shape"
   ]
  },
  {
   "cell_type": "code",
   "execution_count": 129,
   "metadata": {},
   "outputs": [
    {
     "data": {
      "text/plain": [
       "Review Text    1\n",
       "dtype: int64"
      ]
     },
     "execution_count": 129,
     "metadata": {},
     "output_type": "execute_result"
    }
   ],
   "source": [
    "df.isnull().sum()"
   ]
  },
  {
   "cell_type": "code",
   "execution_count": 130,
   "metadata": {},
   "outputs": [
    {
     "data": {
      "text/plain": [
       "Review Text    0\n",
       "dtype: int64"
      ]
     },
     "execution_count": 130,
     "metadata": {},
     "output_type": "execute_result"
    }
   ],
   "source": [
    "df = df.dropna().reset_index(drop=True)\n",
    "df.isnull().sum()"
   ]
  },
  {
   "cell_type": "code",
   "execution_count": 131,
   "metadata": {},
   "outputs": [
    {
     "data": {
      "text/html": [
       "<div>\n",
       "<style scoped>\n",
       "    .dataframe tbody tr th:only-of-type {\n",
       "        vertical-align: middle;\n",
       "    }\n",
       "\n",
       "    .dataframe tbody tr th {\n",
       "        vertical-align: top;\n",
       "    }\n",
       "\n",
       "    .dataframe thead th {\n",
       "        text-align: right;\n",
       "    }\n",
       "</style>\n",
       "<table border=\"1\" class=\"dataframe\">\n",
       "  <thead>\n",
       "    <tr style=\"text-align: right;\">\n",
       "      <th></th>\n",
       "      <th>Review Text</th>\n",
       "    </tr>\n",
       "  </thead>\n",
       "  <tbody>\n",
       "    <tr>\n",
       "      <th>0</th>\n",
       "      <td>Though asked to choose only one option, while ...</td>\n",
       "    </tr>\n",
       "    <tr>\n",
       "      <th>1</th>\n",
       "      <td>in any unfavorable business conditions, the co...</td>\n",
       "    </tr>\n",
       "    <tr>\n",
       "      <th>2</th>\n",
       "      <td>There's a lot to learn and the organisation ha...</td>\n",
       "    </tr>\n",
       "    <tr>\n",
       "      <th>3</th>\n",
       "      <td>The organization starting right from the leade...</td>\n",
       "    </tr>\n",
       "    <tr>\n",
       "      <th>4</th>\n",
       "      <td>the company has many verticals under its fold ...</td>\n",
       "    </tr>\n",
       "  </tbody>\n",
       "</table>\n",
       "</div>"
      ],
      "text/plain": [
       "                                         Review Text\n",
       "0  Though asked to choose only one option, while ...\n",
       "1  in any unfavorable business conditions, the co...\n",
       "2  There's a lot to learn and the organisation ha...\n",
       "3  The organization starting right from the leade...\n",
       "4  the company has many verticals under its fold ..."
      ]
     },
     "execution_count": 131,
     "metadata": {},
     "output_type": "execute_result"
    }
   ],
   "source": [
    "df.head(5)"
   ]
  },
  {
   "cell_type": "markdown",
   "metadata": {},
   "source": [
    "# Declaring Vaiables"
   ]
  },
  {
   "cell_type": "code",
   "execution_count": 132,
   "metadata": {},
   "outputs": [],
   "source": [
    "sentences = []\n",
    "stop_words = set(stopwords.words(\"english\")) \n",
    "lemmatizer = WordNetLemmatizer()\n",
    "rx = r\"\\.(?=\\S)\"\n",
    "punctuations = '''!()-[]{};:'\"\\,<>./?@#$%^&*_~'''\n",
    "def get_wordnet_pos(word):\n",
    "    tag = nltk.pos_tag([word])[0][1][0].upper()\n",
    "    tag_dict = {\"J\": wordnet.ADJ,\n",
    "                \"N\": wordnet.NOUN,\n",
    "                \"V\": wordnet.VERB,\n",
    "                \"R\": wordnet.ADV}\n",
    "    return tag_dict.get(tag, wordnet.ADJ)\n"
   ]
  },
  {
   "cell_type": "markdown",
   "metadata": {},
   "source": [
    "# Removing Punctuations"
   ]
  },
  {
   "cell_type": "code",
   "execution_count": 133,
   "metadata": {},
   "outputs": [],
   "source": [
    "r = []\n",
    "for reviews in df['Review Text']:\n",
    "    r.append(reviews)\n",
    "    reviews = re.sub(rx, \". \", reviews)\n",
    "    reviews = reviews.lower()\n",
    "    reviews_without_punct = \"\"\n",
    "    for char in reviews:\n",
    "        if char not in punctuations:\n",
    "            reviews_without_punct = reviews_without_punct + char\n",
    "    sentences.append(reviews_without_punct.split())"
   ]
  },
  {
   "cell_type": "markdown",
   "metadata": {},
   "source": [
    "# Remove Stopwords and Lemmatizing words"
   ]
  },
  {
   "cell_type": "code",
   "execution_count": 134,
   "metadata": {},
   "outputs": [
    {
     "name": "stdout",
     "output_type": "stream",
     "text": [
      "Cleaning of words completed\n",
      "Time to train the model:  5 seconds\n",
      "Total number of sentences found are:  278\n"
     ]
    }
   ],
   "source": [
    "t = time()\n",
    "for words in sentences:\n",
    "    sent = \"\"\n",
    "    sent = (\" \").join(words)\n",
    "    split = sent.split()\n",
    "    for words_in_split in split:\n",
    "        if words_in_split in stop_words:\n",
    "            words.remove(words_in_split)\n",
    "        else:\n",
    "            lemma = lemmatizer.lemmatize(words_in_split, get_wordnet_pos(words_in_split))\n",
    "            if words_in_split != lemma:\n",
    "                words.remove(words_in_split)\n",
    "                words.append(lemma)\n",
    "print(\"Cleaning of words completed\")\n",
    "print(\"Time to train the model: \",round(time()-t),\"seconds\")\n",
    "print(\"Total number of sentences found are: \",len(sentences))"
   ]
  },
  {
   "cell_type": "markdown",
   "metadata": {},
   "source": [
    "# Word2Vec"
   ]
  },
  {
   "cell_type": "code",
   "execution_count": 135,
   "metadata": {},
   "outputs": [],
   "source": [
    "num_features = 300\n",
    "min_word_count = 2\n",
    "num_workers = multiprocessing.cpu_count()\n",
    "context_size = 7\n",
    "seed = 1\n",
    "downsampling = 1e-3"
   ]
  },
  {
   "cell_type": "code",
   "execution_count": 136,
   "metadata": {},
   "outputs": [],
   "source": [
    "word_2_vec = w2v(\n",
    "    sg=1, \n",
    "    seed=seed, \n",
    "    workers=num_workers, \n",
    "    size=num_features, \n",
    "    min_count=min_word_count, \n",
    "    window=context_size, \n",
    "    sample = downsampling)"
   ]
  },
  {
   "cell_type": "code",
   "execution_count": 137,
   "metadata": {},
   "outputs": [],
   "source": [
    "word_2_vec.build_vocab(sentences, progress_per = 10000)"
   ]
  },
  {
   "cell_type": "code",
   "execution_count": 138,
   "metadata": {},
   "outputs": [
    {
     "name": "stdout",
     "output_type": "stream",
     "text": [
      "Time to train the model:  2  seconds\n"
     ]
    }
   ],
   "source": [
    "t = time()\n",
    "word_2_vec.train(sentences, total_examples=word_2_vec.corpus_count, epochs=30, report_delay=1)\n",
    "print(\"Time to train the model: \",round(time()-t),\" seconds\")"
   ]
  },
  {
   "cell_type": "code",
   "execution_count": 139,
   "metadata": {},
   "outputs": [],
   "source": [
    "word_2_vec.init_sims(replace=True)"
   ]
  },
  {
   "cell_type": "code",
   "execution_count": 140,
   "metadata": {},
   "outputs": [
    {
     "data": {
      "text/plain": [
       "[('mind', 0.9996620416641235),\n",
       " ('family', 0.9996460676193237),\n",
       " ('people', 0.9995251297950745),\n",
       " ('truly', 0.9995163679122925),\n",
       " ('thus', 0.9995049238204956),\n",
       " ('cause', 0.9994972944259644),\n",
       " ('extremely', 0.9994831681251526),\n",
       " ('kid', 0.999481737613678),\n",
       " ('matter', 0.9994781017303467),\n",
       " ('distraction', 0.9994529485702515)]"
      ]
     },
     "execution_count": 140,
     "metadata": {},
     "output_type": "execute_result"
    }
   ],
   "source": [
    "word_2_vec.wv.most_similar(positive=[\"environment\"])"
   ]
  },
  {
   "cell_type": "code",
   "execution_count": 141,
   "metadata": {},
   "outputs": [
    {
     "data": {
      "text/plain": [
       "0.99907905"
      ]
     },
     "execution_count": 141,
     "metadata": {},
     "output_type": "execute_result"
    }
   ],
   "source": [
    "word_2_vec.wv.similarity(\"performance\", 'great')"
   ]
  },
  {
   "cell_type": "code",
   "execution_count": 142,
   "metadata": {},
   "outputs": [],
   "source": [
    "tsne = sklearn.manifold.TSNE(n_components =2, random_state =0)"
   ]
  },
  {
   "cell_type": "code",
   "execution_count": 143,
   "metadata": {},
   "outputs": [
    {
     "data": {
      "text/plain": [
       "(417, 300)"
      ]
     },
     "execution_count": 143,
     "metadata": {},
     "output_type": "execute_result"
    }
   ],
   "source": [
    "all_word_vectors_matrix = word_2_vec.wv.vectors\n",
    "all_word_vectors_matrix.shape"
   ]
  },
  {
   "cell_type": "code",
   "execution_count": 144,
   "metadata": {},
   "outputs": [],
   "source": [
    "all_word_vectors_matrix_2d = tsne.fit_transform(all_word_vectors_matrix)"
   ]
  },
  {
   "cell_type": "code",
   "execution_count": 145,
   "metadata": {},
   "outputs": [],
   "source": [
    "points = pd.DataFrame(\n",
    "    [\n",
    "        (words, coords[0], coords[1])\n",
    "        for words, coords in [\n",
    "            (word, all_word_vectors_matrix_2d[word_2_vec.wv.vocab[word].index])\n",
    "            for word in word_2_vec.wv.vocab\n",
    "        ]\n",
    "    ],\n",
    "    columns=[\"word\", \"x\", \"y\"]\n",
    ")"
   ]
  },
  {
   "cell_type": "code",
   "execution_count": 146,
   "metadata": {},
   "outputs": [
    {
     "data": {
      "text/html": [
       "<div>\n",
       "<style scoped>\n",
       "    .dataframe tbody tr th:only-of-type {\n",
       "        vertical-align: middle;\n",
       "    }\n",
       "\n",
       "    .dataframe tbody tr th {\n",
       "        vertical-align: top;\n",
       "    }\n",
       "\n",
       "    .dataframe thead th {\n",
       "        text-align: right;\n",
       "    }\n",
       "</style>\n",
       "<table border=\"1\" class=\"dataframe\">\n",
       "  <thead>\n",
       "    <tr style=\"text-align: right;\">\n",
       "      <th></th>\n",
       "      <th>word</th>\n",
       "      <th>x</th>\n",
       "      <th>y</th>\n",
       "    </tr>\n",
       "  </thead>\n",
       "  <tbody>\n",
       "    <tr>\n",
       "      <th>0</th>\n",
       "      <td>choose</td>\n",
       "      <td>16.167955</td>\n",
       "      <td>7.387047</td>\n",
       "    </tr>\n",
       "    <tr>\n",
       "      <th>1</th>\n",
       "      <td>one</td>\n",
       "      <td>-1.279770</td>\n",
       "      <td>-16.036713</td>\n",
       "    </tr>\n",
       "    <tr>\n",
       "      <th>2</th>\n",
       "      <td>option</td>\n",
       "      <td>2.852685</td>\n",
       "      <td>-18.422819</td>\n",
       "    </tr>\n",
       "    <tr>\n",
       "      <th>3</th>\n",
       "      <td>strongly</td>\n",
       "      <td>0.429621</td>\n",
       "      <td>10.404810</td>\n",
       "    </tr>\n",
       "    <tr>\n",
       "      <th>4</th>\n",
       "      <td>company</td>\n",
       "      <td>17.633392</td>\n",
       "      <td>9.504357</td>\n",
       "    </tr>\n",
       "    <tr>\n",
       "      <th>5</th>\n",
       "      <td>top</td>\n",
       "      <td>26.581644</td>\n",
       "      <td>-12.058160</td>\n",
       "    </tr>\n",
       "    <tr>\n",
       "      <th>6</th>\n",
       "      <td>ask</td>\n",
       "      <td>-0.286578</td>\n",
       "      <td>4.651560</td>\n",
       "    </tr>\n",
       "    <tr>\n",
       "      <th>7</th>\n",
       "      <td>give</td>\n",
       "      <td>14.713511</td>\n",
       "      <td>-13.206553</td>\n",
       "    </tr>\n",
       "    <tr>\n",
       "      <th>8</th>\n",
       "      <td>business</td>\n",
       "      <td>5.459591</td>\n",
       "      <td>13.095108</td>\n",
       "    </tr>\n",
       "    <tr>\n",
       "      <th>9</th>\n",
       "      <td>set</td>\n",
       "      <td>-11.249622</td>\n",
       "      <td>1.133411</td>\n",
       "    </tr>\n",
       "  </tbody>\n",
       "</table>\n",
       "</div>"
      ],
      "text/plain": [
       "       word          x          y\n",
       "0    choose  16.167955   7.387047\n",
       "1       one  -1.279770 -16.036713\n",
       "2    option   2.852685 -18.422819\n",
       "3  strongly   0.429621  10.404810\n",
       "4   company  17.633392   9.504357\n",
       "5       top  26.581644 -12.058160\n",
       "6       ask  -0.286578   4.651560\n",
       "7      give  14.713511 -13.206553\n",
       "8  business   5.459591  13.095108\n",
       "9       set -11.249622   1.133411"
      ]
     },
     "execution_count": 146,
     "metadata": {},
     "output_type": "execute_result"
    }
   ],
   "source": [
    "points.head(10)"
   ]
  },
  {
   "cell_type": "code",
   "execution_count": 147,
   "metadata": {},
   "outputs": [],
   "source": [
    "sns.set_context(\"poster\")"
   ]
  },
  {
   "cell_type": "code",
   "execution_count": 148,
   "metadata": {},
   "outputs": [
    {
     "data": {
      "text/plain": [
       "<matplotlib.axes._subplots.AxesSubplot at 0x2a00e0e3520>"
      ]
     },
     "execution_count": 148,
     "metadata": {},
     "output_type": "execute_result"
    },
    {
     "data": {
      "image/png": "[encoded data removed]",
      "text/plain": [
       "<Figure size 1440x864 with 1 Axes>"
      ]
     },
     "metadata": {
      "needs_background": "light"
     },
     "output_type": "display_data"
    }
   ],
   "source": [
    "points.plot.scatter(\"x\", \"y\", s=10, figsize=(20, 12))"
   ]
  },
  {
   "cell_type": "code",
   "execution_count": 149,
   "metadata": {},
   "outputs": [],
   "source": [
    "def plot_region(x_bounds, y_bounds):\n",
    "    slice = points[\n",
    "        (x_bounds[0] <= points.x) &\n",
    "        (points.x <= x_bounds[1]) & \n",
    "        (y_bounds[0] <= points.y) &\n",
    "        (points.y <= y_bounds[1])\n",
    "    ]\n",
    "    \n",
    "    ax = slice.plot.scatter(\"x\", \"y\", s=35, figsize=(10, 8))\n",
    "    for i, point in slice.iterrows():\n",
    "        ax.text(point.x + 0.005, point.y + 0.005, point.word, fontsize=11)"
   ]
  },
  {
   "cell_type": "code",
   "execution_count": 150,
   "metadata": {},
   "outputs": [
    {
     "data": {
      "image/png": "[encoded data removed]",
      "text/plain": [
       "<Figure size 720x576 with 1 Axes>"
      ]
     },
     "metadata": {
      "needs_background": "light"
     },
     "output_type": "display_data"
    }
   ],
   "source": [
    "plot_region(x_bounds=(-10,5), y_bounds=(-10, 5))"
   ]
  },
  {
   "cell_type": "markdown",
   "metadata": {},
   "source": [
    "# Clustering of words"
   ]
  },
  {
   "cell_type": "code",
   "execution_count": 151,
   "metadata": {},
   "outputs": [],
   "source": [
    "n_clusters = 5\n",
    "clusters = KMeans(n_clusters = n_clusters,\n",
    "                 max_iter = 300,\n",
    "                 init = 'k-means++',\n",
    "                 n_init = 1)\n",
    "label = clusters.fit_predict(all_word_vectors_matrix)"
   ]
  },
  {
   "cell_type": "code",
   "execution_count": 152,
   "metadata": {},
   "outputs": [],
   "source": [
    "word_centroid_map = dict(zip(word_2_vec.wv.index2word, label ))"
   ]
  },
  {
   "cell_type": "code",
   "execution_count": 153,
   "metadata": {},
   "outputs": [],
   "source": [
    "values_word_centroid = list(word_centroid_map.values())"
   ]
  },
  {
   "cell_type": "code",
   "execution_count": 154,
   "metadata": {},
   "outputs": [],
   "source": [
    "keys_word_centroid = list(word_centroid_map.keys())"
   ]
  },
  {
   "cell_type": "code",
   "execution_count": 155,
   "metadata": {
    "scrolled": true
   },
   "outputs": [
    {
     "name": "stdout",
     "output_type": "stream",
     "text": [
      "\n",
      "Cluster 0\n",
      "['employee', 'management', 'top', 'senior', 'high', 'manager', 'however', 'accountability', 'must', 'know', 'demand', 'bottom', 'bring', 'less']\n",
      "\n",
      "Cluster 1\n",
      "['business', 'client', 'new', 'also', 'challenge', 'one', 'way', 'meeting', 'personal', 'focus', 'communication', 'member', 'think', 'person', 'would', 'since', 'culture', 'respect', 'keep', 'development', 'difficult', 'believe', 'option', 'first', 'manner', 'towards', 'try', 'effective', 'customer', 'clear', 'along', 'execution', 'idea', 'video', 'meet', 'transaction', 'start', 'manage', 'result', 'attitude', 'advisory', 'future', 'build', 'tech', 'talk', 'timely', 'interaction', 'ready', 'right', 'centric', 'critical', 'portfolio', 'service', 'wish', 'commitment', 'true', 'plan', 'add', 'cant', 'short', 'minute', 'overall', 'ok', 'plutus', 'mainly', 'potential', 'sometime', 'miss', 'comfortable', 'especially', 'lockdown', 'account', 'prospect', 'phase', 'acquisition']\n",
      "\n",
      "Cluster 2\n",
      "['work', 'time', 'get', 'lot', 'require', 'nothing', 'call', 'deal', 'set', 'process', 'thing', 'feel', 'find', 'much', 'sometimes', 'many', 'individual', 'dont', 'access', 'available', 'big', 'share', 'office', 'compare', 'bandwidth', 'colleague', 'today', 'discussion', 'information', 'becomes', 'network', 'touch', 'structure', 'lead', 'complete', 'r', 'platform', 'etc', 'quick', 'shall', 'program', 'party', 'current', 'initially', 'physical', 'increase', 'coordination', 'kid', 'distraction', 'disconnect', 'single', 'smoothly', 'phone', 'felt', 'bos', 'medium', 'even', 'hr', 'associate', 'activity', 'connect', 'trust', 'month', 'amp', 'area', 'training', 'lack', 'happen', 'anything', 'carry', 'major', 'currently', 'technology', 'upgraded', 'onine', 'internal', 'join', '10', 'salary', 'settle', 'back', 'presence', 'commute', 'exposure', 'cause', 'organise', 'productivity', 'mental', 'fatigue', 'seem', 'convenient', 'laptop', 'slow', 'lock', 'everything', 'sit', 'tat', 'precious', 'room', 'household', 'chore', 'proper', 'landline', 'little', 'begin']\n",
      "\n",
      "Cluster 3\n",
      "['organisation', 'learn', 'people', 'care', 'value', 'organization', 'team', 'take', 'company', 'leadership', 'change', 'need', 'give', 'growth', 'make', 'opportunity', 'grow', 'market', 'good', 'help', 'like', 'always', 'well', 'every', 'performance', 'leader', 'support', 'great', 'provide', 'product', 'place', 'best', 'space', 'go', 'long', 'level', 'term', 'us', 'professional', 'come', 'goal', 'understand', 'achieve', 'important', 'hence', 'strong', '1', '3', 'year', 'perform', 'family', 'decision', 'situation', 'day', 'debt', 'life', 'see', 'firm', 'n', 'responsibility', 'experience', 'enough', 'vision', 'role', 'faster', 'across', 'within', 'strongly', 'various', 'vertical', 'covid', 'really', 'stand', 'approach', 'key', 'balance', 'pandemic', 'effort', 'offering', 'position', 'spent', 'department', 'extremely', 'promoter', 'infrastructure', 'enable', 'human', 'maintain', 'immense', 'show', 'mind', 'environment', 'old', 'flexibility', 'last', 'improve', 'another', 'brand', 'point', 'nature', 'software', '2', 'communicate', 'become', 'external', 'base', 'recognition', 'others', 'synergy', 'do', 'end', 'matter', 'encourage', 'without', 'earn', 'stay', 'smooth', 'choose', 'ask', 'path', 'there', 'delivery', 'equity', 'freedom', 'timing', 'loyalty', 'truly', 'trouble', 'resource', 'hand', 'satisfaction', 'regularly', 'reporting', 'recognize', 'together', 'look', 'low', 'middle', 'experienced', 'thats', 'request', 'strength', 'operation', 'part', 'fantastic', 'application', 'something', 'thus', 'evolve', 'commendable', 'capital', 'equal', 'enables', 'orient', 'task', 'beyond', 'engage', 'hold', 'career', 'clearly', 'benefit', 'per', 'chance', 'learnt', 'almost', 'industry', 'function', 'ability', 'motivate', 'regard', 'combination', 'beside', 'sustainable', 'mutually', 'develop', 'organisational', 'appreciation', 'line', 'week', 'next', 'compensation', 'present', 'pay', 'suggestion', 'variable', 'learning', 'responsive', 'view', 'create', 'transparency', 'move', 'collaboration', 'risk', 'allow', 'may', 'yet', 'relevant', 'intradepartmental', 'achievement', 'different', 'energy', 'exist', 'conserve', 'quite', 'arrangement', 'none']\n",
      "\n",
      "Cluster 4\n",
      "['issue', 'internet', 'face', 'home', 'online', 'due', 'connectivity', 'problem', 'connection', 'mobile', 'use', 'resolve', 'earlier', 'far', 'net', 'still', 'wifi']\n"
     ]
    }
   ],
   "source": [
    "for cluster in range(0,n_clusters): \n",
    "    print (\"\\nCluster %d\" % cluster)\n",
    "    words = []\n",
    "    for i in range(0,len(word_centroid_map.values())):\n",
    "        if( values_word_centroid[i] == cluster ):\n",
    "            words.append(keys_word_centroid[i])\n",
    "    print (words)"
   ]
  },
  {
   "cell_type": "code",
   "execution_count": 156,
   "metadata": {},
   "outputs": [],
   "source": [
    "pca = PCA(n_components = 2).fit(all_word_vectors_matrix)\n",
    "coords = pca.transform(all_word_vectors_matrix)\n",
    "colors = ['#ff0000','#ff4000','#ff8000','#ffbf00','#ffff00','#bfff00','#80ff00','#40ff00','#00ff00','#00ff40','#00ff80','#00ffbf','#00ffff','#00bfff','#0080ff','#0040ff','#0000ff','#4000ff','#8000ff','#bf00ff','#ff00ff','#ff00bf','#ff0080','#ff0040','#ff0000']\n",
    "label_colors = []\n",
    "for i in range(n_clusters):\n",
    "    label_colors.append(colors[i])"
   ]
  },
  {
   "cell_type": "code",
   "execution_count": 157,
   "metadata": {},
   "outputs": [
    {
     "data": {
      "image/png": "[encoded data removed]",
      "text/plain": [
       "<Figure size 432x288 with 1 Axes>"
      ]
     },
     "metadata": {
      "needs_background": "light"
     },
     "output_type": "display_data"
    }
   ],
   "source": [
    "colors = [label_colors[i] for i in label]\n",
    "plt.scatter(coords[:, 0], coords[:, 1], c=colors)\n",
    "centroids = clusters.cluster_centers_\n",
    "centroids_coords = pca.transform(centroids)\n",
    "plt.scatter(centroids_coords[:, 0], centroids_coords[:, 1], marker=\"X\", s=200, linewidths = 2, c=\"#444d61\")\n",
    "plt.show()"
   ]
  },
  {
   "cell_type": "markdown",
   "metadata": {},
   "source": [
    "# Doc2Vec"
   ]
  },
  {
   "cell_type": "code",
   "execution_count": 158,
   "metadata": {},
   "outputs": [
    {
     "name": "stdout",
     "output_type": "stream",
     "text": [
      "TaggedDocument(['though', 'choose', 'one', 'option', 'strongly', 'agree', 'company', 'top', 'ask', 'give', 'option'], [0])\n",
      "TaggedDocument(['unfavorable', 'business', 'company', 'set', 'new', 'always', 'optimistic', 'ready', 'find', 'situation', 'condition', 'emerge', 'milestone', 'leader', 'opportunity'], [1])\n",
      "TaggedDocument(['lot', 'learn', 'organisation', 'path', 'since', 'long', 'time', 'there', 'grow'], [2])\n",
      "TaggedDocument(['organization', 'right', 'leadership', 'team', 'various', 'senior', 'value', 'care', 'organization', 'also', 'ample', 'growth', 'start', 'level', 'member', 'employee', 'provide', 'opportunity', 'challenge', 'learn'], [3])\n",
      "TaggedDocument(['company', 'many', 'fold', 'delivery', 'one', 'roof', 'vertical', 'help', 'product'], [4])\n",
      "TaggedDocument(['personal', 'touch', 'positive', 'covid', 'mr', 'abhishek', 'every', 'day', 'team', 'kapil', 'jeenesh', 'sakshi', 'felt', 'good', 'test', 'bos', 'medium', 'call', 'mate'], [5])\n",
      "TaggedDocument(['entrepreneurial', 'spirit'], [6])\n",
      "TaggedDocument(['company', 'people', 'value'], [7])\n",
      "TaggedDocument(['learn', 'lot', 'facility', 'due', 'many', 'due', 'way', 'infra', 'structure', 'safety', 'past', 'get', 'term', 'management', 'challenge', 'face', 'precaution', 'manage'], [8])\n",
      "TaggedDocument(['previous', 'organization', 'new', 'market', 'specially', 'debt', 'market', 'equity', 'market', 'compare', 'learn', 'product'], [9])\n"
     ]
    }
   ],
   "source": [
    "tagged_sentence = [TaggedDocument(d, [i]) for i, d in enumerate(sentences)]\n",
    "for i in range(10):\n",
    "    print(tagged_sentence[i])"
   ]
  },
  {
   "cell_type": "code",
   "execution_count": 159,
   "metadata": {},
   "outputs": [],
   "source": [
    "num_features = 300\n",
    "min_word_count = 2\n",
    "num_workers = multiprocessing.cpu_count()\n",
    "context_size = 7\n",
    "seed = 1\n",
    "downsampling = 1e-3"
   ]
  },
  {
   "cell_type": "code",
   "execution_count": 160,
   "metadata": {},
   "outputs": [],
   "source": [
    "doc_2_vec = d2v(\n",
    "    seed=seed, \n",
    "    workers=num_workers, \n",
    "    vector_size=num_features, \n",
    "    min_count=min_word_count, \n",
    "    window=context_size, \n",
    "    sample = downsampling)"
   ]
  },
  {
   "cell_type": "code",
   "execution_count": 161,
   "metadata": {},
   "outputs": [],
   "source": [
    "doc_2_vec.build_vocab(tagged_sentence, progress_per = 10000)"
   ]
  },
  {
   "cell_type": "code",
   "execution_count": 162,
   "metadata": {},
   "outputs": [],
   "source": [
    "doc_2_vec.train(tagged_sentence, total_examples=doc_2_vec.corpus_count, epochs=30, report_delay=1)"
   ]
  },
  {
   "cell_type": "code",
   "execution_count": 163,
   "metadata": {},
   "outputs": [],
   "source": [
    "doc_2_vec.init_sims(replace=True)"
   ]
  },
  {
   "cell_type": "code",
   "execution_count": 164,
   "metadata": {},
   "outputs": [
    {
     "data": {
      "text/plain": [
       "[('business', 0.9998621344566345),\n",
       " ('company', 0.9998571872711182),\n",
       " ('work', 0.9998563528060913),\n",
       " ('give', 0.9998555183410645),\n",
       " ('time', 0.9998546838760376),\n",
       " ('good', 0.9998536109924316),\n",
       " ('home', 0.9998511075973511),\n",
       " ('like', 0.9998501539230347),\n",
       " ('need', 0.9998500347137451),\n",
       " ('organisation', 0.9998495578765869)]"
      ]
     },
     "execution_count": 164,
     "metadata": {},
     "output_type": "execute_result"
    }
   ],
   "source": [
    "doc_2_vec.wv.similar_by_vector(\"environment\")"
   ]
  },
  {
   "cell_type": "code",
   "execution_count": 165,
   "metadata": {},
   "outputs": [
    {
     "data": {
      "text/plain": [
       "0.9999157"
      ]
     },
     "execution_count": 165,
     "metadata": {},
     "output_type": "execute_result"
    }
   ],
   "source": [
    "doc_2_vec.wv.similarity(\"good\", 'great')"
   ]
  },
  {
   "cell_type": "code",
   "execution_count": 166,
   "metadata": {},
   "outputs": [
    {
     "data": {
      "text/plain": [
       "(278, 300)"
      ]
     },
     "execution_count": 166,
     "metadata": {},
     "output_type": "execute_result"
    }
   ],
   "source": [
    "all_sent_vectors_matrix = doc_2_vec.docvecs.vectors_docs\n",
    "all_sent_vectors_matrix.shape"
   ]
  },
  {
   "cell_type": "code",
   "execution_count": 167,
   "metadata": {},
   "outputs": [
    {
     "name": "stdout",
     "output_type": "stream",
     "text": [
      "[-4.10908507e-03  3.82111818e-02  7.32506290e-02 -8.53955559e-03\n",
      "  1.00955404e-01  2.42935847e-02  7.01139718e-02  1.04586847e-01\n",
      " -2.76390966e-02  2.31595412e-02 -1.00680977e-01  5.47937378e-02\n",
      " -4.77510765e-02  4.41602096e-02 -4.54898030e-02  6.29388914e-02\n",
      "  1.24607965e-01  1.01697601e-01  1.35035226e-02 -3.83147295e-03\n",
      " -1.22050963e-01 -8.60934798e-03 -7.68468231e-02 -1.60259716e-02\n",
      " -6.74309433e-02 -1.01176146e-02  2.39043683e-02 -4.67715338e-02\n",
      " -8.80239084e-02  4.94741313e-02  4.71150987e-02  3.07830572e-02\n",
      "  2.85850081e-04  1.39346167e-01  8.52316022e-02  3.31459977e-02\n",
      " -6.06757961e-02 -4.51356843e-02 -9.28260852e-03 -4.89906641e-03\n",
      "  7.40121901e-02  4.41797189e-02  4.22574170e-02  1.29886672e-01\n",
      "  8.97270814e-02  5.40621541e-02  4.70133014e-02 -7.38809444e-03\n",
      "  2.29647234e-02  6.59298152e-02 -2.89156544e-03  2.92744171e-02\n",
      "  5.82421310e-02  8.23526978e-02 -1.49807349e-01 -3.21527831e-02\n",
      "  3.92153524e-02  2.14455798e-02 -1.14986598e-02 -1.70367770e-03\n",
      " -5.66829182e-02  8.56617242e-02 -1.06180888e-02  8.71456787e-03\n",
      " -3.39776091e-02 -1.72751595e-03 -8.81997868e-02  1.68905351e-02\n",
      " -4.34638523e-02 -4.28857766e-02  1.03179038e-01 -1.10258467e-01\n",
      " -4.46058884e-02  1.08193494e-01  5.94447479e-02  2.89384387e-02\n",
      " -3.56838368e-02  4.44273688e-02 -4.83259670e-02  5.78645505e-02\n",
      " -7.47723505e-02  2.88229734e-02 -5.09919934e-02  5.48273139e-02\n",
      " -6.62449524e-02 -3.37144323e-02  5.21513149e-02 -6.32773265e-02\n",
      "  1.51071865e-02  7.92743936e-02  6.38757572e-02  5.14861606e-02\n",
      "  4.89366390e-02  2.47613229e-02 -4.71889414e-03 -1.11412788e-02\n",
      " -4.57451083e-02  7.07852691e-02 -8.99308175e-02  1.08197546e-02\n",
      " -2.72762850e-02 -8.17478076e-03  3.05581577e-02  4.29718904e-02\n",
      "  5.25001660e-02 -2.62026042e-02 -2.17512362e-02  5.94335496e-02\n",
      "  4.26031761e-02 -2.27334555e-02 -2.37139240e-02  2.98051648e-02\n",
      "  5.83502799e-02 -1.59950610e-02  4.77835303e-03  7.32531250e-02\n",
      " -5.98785728e-02 -5.45605794e-02 -1.36837408e-01  1.96040887e-03\n",
      "  6.02605008e-02 -1.17684416e-02 -5.20659052e-02 -2.06887629e-02\n",
      "  1.08910516e-01 -1.00349158e-01 -9.99479070e-02 -2.09057834e-02\n",
      "  4.94328812e-02  1.53094502e-02  6.49245009e-02 -1.18843361e-03\n",
      "  4.49213833e-02  3.23274150e-03  4.16181609e-02 -6.53505325e-02\n",
      " -1.61594585e-01 -3.04593276e-02  3.72068323e-02 -5.49471297e-04\n",
      " -3.55361290e-02  7.82990679e-02  7.54571110e-02 -5.06647862e-03\n",
      "  2.94035971e-02 -8.35855752e-02 -9.44843888e-03  7.95801636e-03\n",
      " -3.09217181e-02  4.54079248e-02 -8.79548863e-02 -3.73435169e-02\n",
      " -5.79634793e-02  8.23745690e-03  1.19232759e-02 -4.32312265e-02\n",
      "  4.27737832e-03  1.81051679e-02 -2.50193104e-02 -5.88136958e-03\n",
      "  4.02331650e-02  1.59654021e-02 -8.96602422e-02  1.18227908e-02\n",
      " -1.07097782e-01  8.76730829e-02 -1.43981948e-01 -9.45034996e-03\n",
      " -5.26783094e-02  4.57277186e-02 -1.03493128e-03  9.35238525e-02\n",
      " -2.92566903e-02 -5.05003408e-02 -2.65011415e-02 -1.98331848e-02\n",
      " -7.99831972e-02 -6.66740611e-02 -6.50237966e-03 -3.23405527e-02\n",
      "  3.56854610e-02 -8.91844258e-02 -2.30564903e-02 -2.58528478e-02\n",
      " -5.64405359e-02  8.53321794e-03 -9.77659449e-02 -2.84608342e-02\n",
      " -2.70518828e-02  1.70990020e-01  6.53294101e-02  4.60052155e-02\n",
      "  2.32801195e-02 -1.54714808e-02  6.79222867e-02 -4.13481146e-02\n",
      "  9.19952150e-03 -7.30454773e-02 -4.45722528e-02 -7.71100149e-02\n",
      " -6.16912246e-02  8.42385285e-04 -4.80550416e-02  3.90102156e-02\n",
      "  5.92992082e-02 -7.10104704e-02 -6.39969250e-03  5.47890142e-02\n",
      "  5.94849512e-02  1.41613074e-02 -4.57551107e-02 -2.27329679e-06\n",
      " -3.40060703e-02 -2.06101891e-02  3.14220972e-03 -1.07778236e-02\n",
      "  3.64368074e-02  4.13377434e-02  1.53482556e-02 -1.02217812e-02\n",
      "  7.49319568e-02 -1.85778551e-02 -1.25443593e-01  3.50815989e-02\n",
      " -2.09153164e-02 -6.10355958e-02  4.60362621e-02 -5.82327135e-03\n",
      " -7.64166564e-02 -8.29949277e-05 -2.70699486e-02 -2.03713793e-02\n",
      " -1.65328868e-02  3.77088524e-02 -1.60108879e-02  6.05909303e-02\n",
      "  6.02667406e-02 -6.18011765e-02 -1.24846160e-01  1.40236272e-02\n",
      "  4.05392125e-02  4.61410731e-02 -8.72586621e-04 -2.43169330e-02\n",
      " -1.83975361e-02 -2.87441220e-02  2.76098475e-02 -1.20874941e-02\n",
      "  6.41717613e-02 -3.10067143e-02 -2.41350364e-02 -1.79884080e-02\n",
      " -8.71083289e-02 -3.66317183e-02  3.95365618e-02 -6.12431616e-02\n",
      "  8.94890353e-03  7.93312937e-02 -1.10870421e-01 -2.12240289e-03\n",
      " -2.93344948e-02 -5.28432466e-02  3.27143408e-02  6.67840019e-02\n",
      "  7.69145489e-02  4.19036970e-02  8.50898996e-02  5.43768071e-02\n",
      "  1.24283485e-01  2.47273110e-02 -1.10866083e-02  1.18909702e-02\n",
      " -1.68112442e-01 -4.09847349e-02 -4.82743084e-02  1.59002855e-01\n",
      " -2.75745895e-02 -1.58028752e-02 -1.92004833e-02  4.37999070e-02\n",
      "  3.88160795e-02 -1.14413770e-02 -7.76205445e-04 -2.11606659e-02\n",
      " -5.55951446e-02  5.58001287e-02 -8.07778910e-02 -3.47098932e-02\n",
      "  4.37607467e-02  3.17296311e-02  1.49354264e-02  3.54867876e-02\n",
      " -4.21079285e-02 -7.53600299e-02 -1.12323485e-01 -6.49616569e-02\n",
      "  2.89976448e-02  3.60324606e-02 -7.56179765e-02 -6.35898206e-03]\n",
      "(278, 300)\n"
     ]
    }
   ],
   "source": [
    "print(all_sent_vectors_matrix[277])\n",
    "print(all_sent_vectors_matrix.shape)"
   ]
  },
  {
   "cell_type": "code",
   "execution_count": 168,
   "metadata": {},
   "outputs": [
    {
     "name": "stdout",
     "output_type": "stream",
     "text": [
      "[0 0 0 0 0 0 2 0 0 0 0 0 0 0 0 0 0 0 0 0 0 0 0 0 0 0 0 0 0 0 0 0 0 0 0 0 0\n",
      " 0 0 0 0 0 0 0 0 0 0 0 0 0 0 0 0 0 0 0 0 0 0 0 0 0 0 0 0 0 0 0 0 0 0 0 0 0\n",
      " 0 0 0 0 0 0 0 0 0 0 0 0 0 0 0 0 0 0 0 0 0 0 0 0 0 0 0 0 0 0 0 0 0 0 0 0 0\n",
      " 0 0 0 0 0 0 0 0 0 0 0 0 0 0 0 0 0 0 0 0 0 0 0 0 0 0 0 0 0 0 0 0 4 0 0 0 0\n",
      " 0 0 0 0 0 0 0 0 0 0 0 0 0 0 0 0 0 0 0 0 0 0 0 0 0 0 0 0 0 0 0 0 0 0 0 0 0\n",
      " 0 0 0 0 0 0 0 0 0 0 0 0 0 0 0 0 0 0 0 0 0 0 0 0 0 0 0 0 0 0 0 0 0 0 0 0 0\n",
      " 0 0 0 0 0 0 0 0 0 0 0 0 0 0 0 0 0 0 0 0 0 0 0 0 3 0 0 0 0 0 0 0 0 0 0 0 0\n",
      " 0 0 0 0 0 0 0 0 0 0 0 0 1 0 0 0 0 0 0]\n"
     ]
    }
   ],
   "source": [
    "n_clusters = 5\n",
    "clusters = KMeans(n_clusters = n_clusters,\n",
    "                 max_iter = 300,\n",
    "                 init = 'k-means++',\n",
    "                 n_init = 1)\n",
    "km = clusters.fit(all_sent_vectors_matrix)\n",
    "label = km.predict(all_sent_vectors_matrix)\n",
    "print(label)"
   ]
  },
  {
   "cell_type": "code",
   "execution_count": 108,
   "metadata": {},
   "outputs": [],
   "source": [
    "all_sent_vectors_matrix_2d = tsne.fit_transform(all_sent_vectors_matrix)"
   ]
  },
  {
   "cell_type": "code",
   "execution_count": 109,
   "metadata": {},
   "outputs": [
    {
     "name": "stdout",
     "output_type": "stream",
     "text": [
      "0 Though asked to choose only one option, while I strongly agree that in this company all given options are on top.\n",
      "0 in any unfavorable business conditions, the company has emerged and set  new milestones. leaders are always optimistic and ready to find opportunities out of any situation..\n",
      "0 There's a lot to learn and the organisation has been on the growing path since a very long time\n",
      "0 The organization starting right from the leadership team to various levels of senior members value and care about the employees. The organization also provides ample opportunities and challenges for learning and growth.  \n",
      "0 the company has many verticals under its fold which helps in delivery of all products under one roof. \n",
      "0 There is a personal  touch.  I tested positive for covid.My boss Mr abhishek media called me every day and so did my team mates kapil  , jeenesh and sakshi.. I felt good about it\n",
      "1 Entrepreneurial spirit\n",
      "3 Company values people \n",
      "0 Got to learn a lot in terms of Facility Managements, due to many challenges faced due to the way Infra Structure & Safety Precautions managed in past  \n",
      "0 As compared to my previous organization I have learned new products which are in market specially in debt market and equity market.\n",
      "0 freedom of work and flexible timings\n",
      "0 Organization is really care for me and management team always stands with me all times.and they reward me always for my work and performance.\n",
      "0 Dedication, sincerity, loyalty, authenticity and commanding capacity in Debt market bring us leadership.  Results in achieving new highs. To remain at the top learning supports.  Organisation represent by people. Automatically valuing and caring taking place.\n",
      "0 This organization truly cares about its employees and resources. There is always helping hands available whenever someone is in trouble.\n",
      "0 Apolitical culture and focussed work approach is the key to my satisfaction while working here. Company values people and cares for their work life balance. Even during the time of covid, we have been regularly been enquired by our manager and HR for our well being and issues we are facing.\n",
      "\n",
      "0 Our company is a market Leader and working with such an organization  gives a proud feeling. I have learned so much here and have seen growth in my personal as well as professional life.\n",
      "0 Most important in this pandemic situation also organisation taking good care about people at home providing support which requires for people.\n",
      "0 Support from your reporting boss.\n",
      "0 The valuing clients and customer comes first attitude.\n",
      "0 The organization is employee centric and makes all the effort to recognize the best in each employees and provide the bandwidth to best performance. \n",
      "0 My organization's Advisory proposition and offerings for clients is the most critical and strongest pillar for Wealth business. This is and will be the most important and respected aspect for our clients. Hence, learning how to manage a portfolio in a holistic manner will provide us with an edge to claim growth in this business in future.\n",
      "0 This organisation always looks for growth and in the process takes its people together. it understands value of of its people.\n",
      "0 I like the learning opportunity provided here.\n",
      "0 It helps all the individuals to grow in the organization and learn daily with new things.. The management also values each and every employee working in the organization irrespective of their position in the firm from low level to middle level also. It's a great place to work with all the experienced team of management. \n",
      "0 organisation know how to take care about employees\n",
      "0 There's a learning and growth available for me..n that's the most I like about this organization.\n",
      "0 I have just spent 1.3 year in this organisation. However, learning for me has been great. Constant requests and requirement from various departments helps me to innovate and grow\n",
      "0 I work in a team which has great people and work which I am extremely passionate about. And all the questions that I have answered are in that context.\n",
      "0 The organisation has a inclusive approach towards all employees and I think this element is one of the biggest strength of employee retention. The source of inclusiveness comes from caring. \n",
      "0 My Organisation has a good work culture and allows employees to work freely.\n",
      "Getting good support from mangers and operation team.\n",
      "0 The Best part is the Promoter values & respects each individual as a person & their work which leads to great motivation & excel in our work to achieve higher goals.The Organization has fantastic Infrastructure & good Leadership team who support in any problem & try to over come it.\n",
      "0 Thats fantastic in the organisation.\n",
      "0 The top leadership and promoter value their employees.\n",
      "0 As we have lot of learning space here, we have an application called \"RAPL\" to learn something new and grow\n",
      "0 Learning opportunities\n",
      "0 The organisation being at a growth stage new business oppurtunities keep on evolving and thus gives huge learning and growth opportunities\n",
      "0 see value in us,offer professional and personal development opportunity\n",
      "0 The Management values its people.\n",
      "0 Caring is an integral part of an Organisation when individual understand that organisation is caring and valuing them then he will feel himself more confident and enable the employee to complete their work with more responsibility.\n",
      "0 It is commendable & extremely satisfying to see the Organization maintaining its business leadership maintaining  valuing & caring for human its capital the most . with human \n",
      "0 equal weightage on performance, learning and growth, valuing people and caring, business and leadership\n",
      "0 I m working since inception so what could I say .hardly words left to comment I learned n happily associated with group.people r caring too.\n",
      "0 Organisation keeps the core moto as Customer First which is very helpful in finding out and learning new ways to service clients and it also helps in personal development\n",
      "0 the leadership team and my supervisor is very oriented towards learning n development as a key driver for performance and there is a strong support and guidance that helps me achieve difficult tasks . There is a lot of care for team members that enables me to aspire for more \n",
      "0 It is a people-centric organisation and a lot of camaraderie exists among colleagues who are always eager to help\n",
      "0 Opportunity to build new team\n",
      "0 The leaders are really take care of their teams.\n",
      "0 My organisation cares about it's employees. Management is very considerate and try to resolve all the hurdles faced by the employees with respect to business.\n",
      "0 Organisation goes beyond to care for its people\n",
      "0 As the Top management are very supporting, engaging our self in every activity in which we can grow our business in long term. \n",
      "0 lots of opportunity to grow with in the organization.\n",
      "0 products\n",
      "0 we have a good hand holding when want to understand any new products \n",
      "0 There is immense learning experience for employees.  \n",
      "0 Culture that we build over years\n",
      "0 its a great Platform to learn and grow , enough space and time is given to understand and connect with clients and leaders .\n",
      "0 Our organisation has been exsmplary in showing concern,compassion and well being for its employees \n",
      "0 There is no micro management and senior leadership trusts their subordinates.\n",
      "0 Company Values and Cares for the people.\n",
      "0 Top Management has a great vision.\n",
      "0 I like the focus the organisation has on growing business ethically with customer in mind \n",
      "0 Involvement in presentation in business meetings can give more clear picture to a growing career path\n",
      "0 Clearly the organisation's greatest benefit is having Sameer Kaul at its helm. \n",
      "0 Leadership is very clear what business they wish to build in future and adheres to commitment to offer the right things to client. Client first is followed in the true manner.  \n",
      "0 Here people are truly valued & cared for .this company thus makes the environment very feasible for new people as well as old employees to gel well as a team & perform \n",
      "0 Along with the focus on business maximisation with effective leadership , values and culture of the organisation is something what I like the most. Efforts of the employees are valued.\n",
      "0 This Organisation has human touch, which is rare in today's times.\n",
      "0 Freedom and flexibility to nurture and grow the business as per my plan and deep understanding and patience shown by promoters and senior managers to grow the business in ethical manner \n",
      "0 I like the way senior management stands with the RM's to handle their client in difficult situations. \n",
      "0 There is always a chance to learn things on own and go ahead.  Many processes are learnt by me personally last one year\n",
      "0 I have had a change in my work role over the last 8 months. Almost a 360 degree change. The learning has been immense and has improved the way in I looked at industries / companies. I have learnt a lot from my immediate manager and the leadership team at company. And hope my learning continues!!!  \n",
      "0 Along with the ticked option  - would also like to add Business & Leadership (Since i cant tick more than one option) - Clear Focus - Working in harmony towards business goal - Client centric - Strong focus on Business Ethics \n",
      "0 that this is not another product selling company. its a good advisory firm.\n",
      "0 People are respected, heard, valued. People are valued at their rightful place and not as slaves\n",
      "0 good opportunity to learn at every step and put the same into application\n",
      "0 This pandemic has proved that our organisation is concerned about its employees \n",
      "\n",
      "0 The way we are functioning, doing business, competing with banks and holding our position in the domain is commendable and its all possible due to professional, knowledgeable and strong leadership on top. Feel fortunate to work with the organization.\n",
      "0 Employees given sufficient liberty and space to perform to their best ability with due accountability and ownership. Personal problems are also duly taken care so that both employer and employee exude reasonable confidence in each other.\n",
      "0 I like the way company cares for its employees. It inspires loyalty, I find this less political compared to my earlier organisations\n",
      "0 Company is a brand in the Debt market space. There are opportunities to learn from the senior management, be it market discussions, new structures, people, etc\n",
      "0 performance and learning is an essential to grow......i am individually motivated on this thought......value and care are the most important  to give and take, and all is going fine ......regards\n",
      "0 Good Work Life Balance and work flexibility which enables us to deliver more and perform our best with 100% efficiency. \n",
      "0 The combination of all the beside points are require for an organisation to give it to the employees for a sustainable growth mutually.\n",
      "1 .\n",
      "0 I am getting lot of opportunities to learn &amp; work in new areas\n",
      "0 I like the ambitious nature of the organization to grow and develop software to keep up with the latest tech. However, the execution and the unanimity of senior management with respect to adding new tech is dicey, unclear, ill informed and rather demotivating\n",
      "0 Company always values the knowledge and experience of the employee and give them a fair chance to grow and show their talent and help them to achieve their goals as well as the Organisational goals.\n",
      "0 I gives me immense pride and satisfaction to work in an organisation like this. \n",
      "0 Mam take care all employees as family  type.\n",
      "0 great learning and evolution\n",
      "0 APPRECIATION OF EMPLOYEES HARD WORK\n",
      "0 1.all the employees of company are not known to one another. \n",
      "2. when leaders set/change  business strategies for short time periods,it should be communicated to the last level of that business line.\n",
      " \n",
      "0 Minute infrastructure changes\n",
      "0 i strongly believe in working 5 days a week to become more efficient and work life balance too....\n",
      "0 Shld keep all saturdays non working which gives us enough time to rejuvenate ourselves for the next week and spend time with family.\n",
      "0 Quick decision making\n",
      "0 External Capital, higher compensation\n",
      "0 Organization must value it's people's need and legitimate demands.\n",
      "0 More training \n",
      "0 To be professional more than personal with few old employees,  \n",
      "0 I think every leader who is responsible for developing business should have a appropriate Process which is communicated to all,Setting up a process for every thing is important.i would also highlight valuing people and caring which is lacking in this organisation in terms of the way of talking and other things\n",
      "0 better appreciation for work performance \n",
      "0 not require any change .\n",
      "0 I feel present mix is healthier and will work for a long time.\n",
      "0 Nothing such comes to my mind.\n",
      "0 Some discussions shall take place time to time with associates for understanding their ambitions and discussing career growth. Few discussions on skill sets required to individual's growth shall happen and subsequently training program shall be made available. \n",
      "0 I think and I believe that the Organization is perfect and there is no change needed. i am into my 12th year with this Organization. \n",
      "0 Base and Bonus Structure. \n",
      "0 Every individual have take there own   responsibility to grow organisation.\n",
      "0 Performance of the organization in the market should go up. The organization should again come in top 3 position in the market.\n",
      "0 recognition and better pay benefits based on work and responsibilities\n",
      "0 We are a boutique firm (compared to others in the market) and hence should be blessed with (1) faster decision making ability (2) implementation and (3) super synergy. While (1) & (2) are seen as strengths in our organization, (3) Synergy is where a great deal of work needs to be done. That must improve (change).\n",
      "0 Organisation should make it clear to every businesses, Leaders and Employees what is expected out of them in long term. Organisation should set a long term goal and strive to achieve those.\n",
      "0 More open communication.\n",
      "0 I don't feel anything is there to be carried out on board\n",
      "0 Nothing\n",
      "0 Growth Option are very limited in distribution department\n",
      "0 I think enough efforts are taken in this direction.\n",
      "0 Again I talk about the team that I work in and I believe there I believe nothing that i can think of changing there apart from the internet infrastructure - which is already under a lot of change is in progress.\n",
      "0 Leadership development and succession planning\n",
      "0 performance needs to be change in across the category.\n",
      "0 The kind of work we have is very dynamic in nature & needs timely up gradation Which the organization always under stands & helps to adjust to new changes , would request that such thing should be done in the future also which helps in adapting changes faster & perform better \n",
      "0 No suggestions\n",
      "0 Variable pay should be given to Support function at par with industry standards.\n",
      "4 Delegation\n",
      "0 Growth, compensation and recognition, brand image \n",
      "0 More Professional Work Culture\n",
      "0 Nothing \n",
      "0 Need more focus\n",
      "0 More opportunities to learn\n",
      "0 Employees should be given more information about the vision so that they can take participation in the growth of the organisation. \n",
      "0 Every organisation needs to change with the times..no major changes required currently.\n",
      "0 Technology needs to be upgraded and processes needs to be set up properly.\n",
      "0 Nothing\n",
      "0 All going good inspite of this pandemic we all are woking from home n doing our best.\n",
      "0 All members should have equal importance as the team matters at the end in any organisational growth\n",
      "0 while the leadership team is strongly oriented to guiding us towards new learnings we can encourage external learnings also to keep us updated in our field\n",
      "0 A strong leader must be secured about himself & his team without favoritism and prejudices.He must have vision, provide space to his team, enable their growth and be responsive to their ideas. Here, it is more of a manager taking daily/weekly reporting like a DSA and forcing his opinion on others.   \n",
      "0 Need to be focussed on the business and try and remove any doubts that the management is facing\n",
      "0 Operations need to improve. Focus on Innovative Product offering\n",
      "0 Management is taking care of any grievance raised by the employees. Hence, I don't thing anything need to be changed.\n",
      "0 More professional leaders required\n",
      "0 Should work on more Technology onine platform client friendly and easy to access and transact onine.\n",
      "Should work on internal mother company to set up a mutual platform for onboarding new clients.\n",
      "\n",
      "1 branding \n",
      "0 employees should be recognized and appreciated regularly ( everyone works at the end to earn money , designation and respect )\n",
      "0 To value your employees and their needs.\n",
      "0 No view as i have joined recently.\n",
      "0 nothing to change , I am very much happy to work with my Superior and my colleague. I have completed almost 10 years with the company.  \n",
      "0 the recent developments with salary cut is highly acceptable . people should be given a minimum time to settle down and Perform and shouldn't be reducing salary and then changing the whole policy of making it variable all of a sudden . the changes are far below the market and that has created lot of discomfort within me . \n",
      "0 Overall general attitude towards staff of all strata\n",
      "0 Remuneration, encourage employees to take timely leaves\n",
      "0 More interaction and communication from the Leadership team\n",
      "0 Top to down communication is Ok but its not replicated the same way in case of bottom to top communication.\n",
      "0 I think an entrepreunal model has to evolve for senior members \n",
      "0 More transparency along with regular communication \n",
      "0 I need to up the momentum in terms of delivery - Clearly, we need to hit a threshold AUM as a base for the firm to become a serious contender. \n",
      "0 We can have a tie up with a reputed institution Like IIMs for a 4-5days residential program on various financial management programs. the cost can be partially shared by the employee and party by co. \n",
      "0 There should be enough opportunities created for employees to move from management to leadership roles .here there is at times too much saturation at the leadership level & hence the transition space for a motivated person to reach the next level decreases.\n",
      "0 Its a good place to work otherwise people wouldn't have been here for so long.....a decade matters.....today in this environment my family is having peace of mind that we are not being called to work from office why because company cares people than business hence it becomes our utmost responsibility to give our best and not let down Management's expectation..\n",
      "0 Collaboration across departments\n",
      "0 Dissemination of the Information.\n",
      "0 Timely Execution of Advisory and Making a brand of Proprietary ideas .. example making short 3-5 minutes video of Plutus Legacy or opportunities , EAS or Plutus alpha .. .. Talking mainly of philosophy and execution processes.. This videos can be circulated to potential clients as getting the first audience of potential client is very difficult in today?s times\n",
      "0 Employee's feed back is most important and their views to be considered while taking decisions \n",
      "0 more of social media presence\n",
      "0 faster decision making and take more calculated risks\n",
      "0 please keep allowing working from home flexibility , as it reduces the commuting timing and also in this way we all work really well\n",
      "0 Commitments made should be fulfilled.\n",
      "0 The way this survey which is being conducted, similarly online suggestions and ideas may be obtained from the employees without asking for any identity so that they can express themselves fearlessly and in a true manner. \n",
      "0 More product offerings to cater more clients and get larger share of market.\n",
      "0 Taking more market calls on a judicious risk-reward basis in SLR segment and maintain a book as per demand and not completely stay away due to high volatility nature of the market.\n",
      "0 Business is changing, Leadership needs to face that challenge, communicate their vision to employees as to how company will meet these changes yet stay profitable. \n",
      "Company has many entities that are present across debt, equities. Am employee may have an insight relevant to another vertical. How do we enable idea sharing to flourish ?\n",
      "0 Sharing of Information\n",
      "0 need to work together to five a better feedback...regards\n",
      "0 There should be more intra-departmental synergy and collaboration for the common goal of Business achievement and growth for the organization.\n",
      "\n",
      "Also intra-departmental movement across verticals and work roles should be allowed & opportunity should be given to existing employees to choose to move to different roles within the Company which will enrich employee experience and learning curve within the company. And employee will become a invaluable asset to the company in the longer run. It's also good for the company/HR ergonomically by conserving some energy, time and resources spent on external hiring.      \n",
      "0 Technological improvement in software space\n",
      "0 The combination of all the beside points are require for an organisation to give it to the employees for a sustainable growth mutually and better place to work.\n",
      "4 .\n",
      "0 More pronounced  recognition for consistent performances \n",
      "0 The accountability chain is from top to bottom. Senior employees demand accountability from those working under them. However, there must be some system of accountability from bottom to top. Employees need to know what their managers and their seniors bring to the table. Else, the passing of blame always ends up in hierarchical shouting matches.\n",
      "Some of the glaringly obvious sycophancy toward senior management is very plainly visible and never fails to make me cringe. There are very few means for an employee to demand accountability from his/her manager, and the kowtowing on display just makes it an atmosphere where high earners are treated as demigods by those earning less than them, and can only be held accountable by those earning more.\n",
      "0 Nothing\n",
      "0 People are required to demonstrate responsive approach and work as a team with full transparency. \n",
      "Synchronisation at work has to be encouraged. \n",
      " \n",
      "0 some refresher courses to understand the analytics of our market will help to eleviate one from the current stagnancy that is felt sometime\n",
      "\n",
      "0 unecessary expenditure in the name of cunsultancy from people who dont have relevant exposure of business cause internal disrution not for good\n",
      "0 Initially was not accustomed to work from home as things were not organised and didn't get time even to organise. While,now  it seems that work can be done more efficiently from home. Seems productivity has increased as mental, physical  fatigue to commute has come down drastically.\n",
      "0 as i work from home since joining ,don't find any issue actually.\n",
      "0 Not much problems faced,everything was quite smooth and managebale\n",
      "0 I think i missed personal touch with clients which is more effective in one to one meetings.\n",
      "0 alongwith the connectivity a bit of issue is in the seating arrangemnets\n",
      "0 Time spent on co-ordination of tasks\n",
      "0 Its more convenient to work at office and deal with u r colleagues face to face. Its much more convenient and productive.\n",
      "0 Meeting clients\n",
      "0 Kids\n",
      "0 Physical and mental fitness\n",
      "0 Since no laptop and network connectivity is provided by the organisation I have to rely on a computer ( which is also shared by my son for online classes) and my mobile hotspot to work\n",
      "0 One to one interaction as we are in sales \n",
      "0 Earlier, in staring face, there was issue of Internet.. But now No issues Internet & Online tools\n",
      "0 Net slow due to dongal & wired net connection was not available due to lock down\n",
      "0 Biggest Challenge is business which requires paper work cant be processed.\n",
      "and clients who are senior citizen are not comfortable to use online mode.\n",
      "0 network issues\n",
      "0 always internet , but in current situation we all working like 1 for making business smooth as always \n",
      "0 In the business development front personal face to face meeting results are not comparable with online calls/ meetings. Advantage of meeting clients at their place, make them comfortable to speak and we can also meet informally all people in the organisation to find out the key decision making person and his attitude.  For the existing contacts and on going business this online set up will work.   It will take sometime to adopt to new culture especially for Govt, SLU and Municipal Corporation/ organisations.\n",
      "0 Being with family especially kids around sometimes causes distraction.\n",
      "0 It had been quite smooth despite initial hiccups. \n",
      "0 Everything is ok. but the personal meeting with the client which we used to do earlier is not happening now due to lock-down.\n",
      "0 Adequate siting arrangement.\n",
      "0 VPN gets disconnected in middle of the work and gets hanged frequently.\n",
      "0 internet connectivity is volatile. dealing becomes tough with a single cellphone,\n",
      "0 Access to information and TAT to get certain details from third party for eg., info from pms, insurance, family trust etc\n",
      "0 A lot of my clients were using manual transactions before the lock down. At the moment we have upgraded many individual accounts for online transactions. Wherever we haven't been able to, due to unavailability of resources/documents or for non-individual accounts, I am facing challenges.\n",
      "0 Effective communication and execution and also net connectivity is sometimes difficult\n",
      "0 None\n",
      "0 I have experienced with all the above as it is only a matter time.. \n",
      "0 Earlier i had a lot of problem with the internet and mobile connectivity but now i have taken the wifi connection at home. As far as mobile connectivity is concern i have still trying to resolve it. \n",
      "0 There are no challenges. I miss my team and other colleagues\n",
      "0 Post Deal activities consume a lot of precious time tat can be effectively utilized on other deals.. \n",
      "0 I have a small kid and sometimes working from home becomes extremely challenging in this environment.\n",
      "0 Internet bandwidth issue before noon\n",
      "0 Most clients are not ready to do transactions through online, and getting  new appointment through video and zoom calls are very difficult.\n",
      "0 Initially it was difficult to do deals from home as it was a different feeling as compared to a dealing rule but within 2-3 with the help of IT & Admin we have wonderful experience of virtual dealing room & things settled very quick & smoothly every work was carried out.Today its as good as doing a deal sitting in the dealing room .   \n",
      "0 Connectivity issues\n",
      "0 Have to the household work also along with office work.\n",
      "0 juggling with both office work and domestic chores. Work has increased manifold\n",
      "0 Nothing\n",
      "0 Loss of Productivity and Distraction\n",
      "0 Nothing \n",
      "0 Due to low client meets results impacted \n",
      "0 Work spills beyond the working hours. \n",
      "0 I am very much tech savy so I don't find any bigger issues while working from home.\n",
      "0 Was facing but made arrangements to work in trouble free manner.\n",
      "0 access to softwares sometimes\n",
      "0 I have no such big issues went smoothly so far.\n",
      "0 incomplete access to database is the issue as we work on desktops and in current scenario without old data working smoothly is a issue\n",
      "0 Nothing whatsoever.\n",
      "0 The single challenge is to acquire new clients and prospect since these are people who do not know me . So trying to engage with an unknown person is challenging \n",
      "0 Most clients are still not aligned to video conferencing and portfolio discussions online. \n",
      "0 I face connectivity issue.. But IT team provides me support &amp; resolved issue.  \n",
      "0 Initially I had problem w.r.t. internet connectivity. Now the issue is resolved.\n",
      "0 Distractions at times\n",
      "0 To get new prospect clients onboard whom we have not yet met a single time.\n",
      "0 Problem of Internet connectivity\n",
      "0 internet bandwidth is a major issue \n",
      "0 There are few clients who believe that in person meetings are more meaningful and do not believe in online communication.  However, these would be 15- 20% of our overall clients.\n",
      "0 To take care of home alongside work. \n",
      "0 I am not facing any challenges for work from home.\n",
      "0 Staying focussed all day at times is a challgenge\n",
      "0 Proper internet connection not available in my area , so need to connect everything via my mobile hot spot.\n",
      "2 na\n",
      "0 Some times  due to lack of internet connection precious time is wasted  leading to delays in completing jobs\n",
      "0 Also Communication or co-ordination with team members and others are challenges. Mainly it is taking lot of time from your schedule.\n",
      "0 with four members working , call drops and bandwidth has been a problem .. also online meetings for new clients is a big challenge \n",
      "0 It would definitely help to have a fixed landline with a Nortel/Cisco handset at home. Currently I use a Wifi landline phone and it is not very effective\n",
      "0 Internet connectivity was the issue. Purchased a higher version of Internet plan with higher speed and also got the new router to utilise it. \n",
      "0 Would like to have access to office files to make the pricing & deal input process simpler \n",
      "0 Wish to have broadband connection but scared to call any outsiders for connection. Wi-Fi has limitations.\n",
      "0 There are times when physical presence is required for close coordination and quick turnaround time. \n",
      "0 This was a challenge at the start of the WFH Phase. However all those challenges are overcome after the first phase of lockdown \n",
      "0 Access to new clients and conversions of leads\n",
      "0 Inability to meet clients in person\n",
      "0 Mobile networks\n",
      "0 Sometimes don't find down time.  People take granted and call for work at point of time\n",
      "0 My Laptop...\n",
      "0 proper work station set up\n",
      "0 meeting clients in person\n",
      "0 at times internet connection becomes little slow but that can be managed and is in no way a hindrance for work related issues\n",
      "0 There are still many processes where documentation is required.\n",
      "0 Banking and logging in of proposals and transaction of funds. \n",
      "Customer servicing and acquisition through personal meetings\n",
      "0 Occasional failure of not getting through a team member during an urgency.\n",
      "0 nothing so far, just feel a little dis-connected,\n",
      "0 At the start internet bandwith was an issue. Got used to setting up phone net quickly when home internet got disconnected.After 3 months, working for 10 hrs and then getting back to household chores in the absence of maid, the body begins to give up. No walks and no sunlight exposure too begins to take a toll.\n",
      "0 None. Infact my Performance, focus and business achievement and new client acquisitions all have increased multifold and faster than previously. Unnecessary travel time, energy is conserved and risk or fear of contracting Covid disease is avoided.\n",
      "0 No much issues. Only Documents where sign required.\n",
      "1 .\n",
      "0 I still feel that face to face interaction on a critical issue is more effective than online communication\n",
      "0 as off now nothing as such\n",
      "0 Internet connection problems \n",
      "0 Sometimes network issues, extra phone set.\n",
      "0 sometimes not having two calling lines is an issue because we call from the mobile and that is where the other counter parties number would be saved etc.\n",
      "\n",
      "but its manageable ....\n",
      "\n",
      "0 fatigue and monotonous days\n"
     ]
    }
   ],
   "source": [
    "for j in range(len(sentences)):    \n",
    "   print (\"%s %s\" % (label[j],  r[j])) "
   ]
  },
  {
   "cell_type": "code",
   "execution_count": 110,
   "metadata": {},
   "outputs": [],
   "source": [
    "pca = PCA(n_components = 2).fit(all_sent_vectors_matrix)\n",
    "coords = pca.transform(all_sent_vectors_matrix)"
   ]
  },
  {
   "cell_type": "code",
   "execution_count": 111,
   "metadata": {},
   "outputs": [
    {
     "data": {
      "image/png": "[encoded data removed]",
      "text/plain": [
       "<Figure size 432x288 with 1 Axes>"
      ]
     },
     "metadata": {
      "needs_background": "light"
     },
     "output_type": "display_data"
    }
   ],
   "source": [
    "colors = [label_colors[i] for i in label]\n",
    "plt.scatter(coords[:, 0], coords[:, 1], c=colors)\n",
    "centroids = clusters.cluster_centers_\n",
    "centroids_coords = pca.transform(centroids)\n",
    "plt.scatter(centroids_coords[:, 0], centroids_coords[:, 1], marker=\"X\", s=200, linewidths = 2, c=\"#444d61\")\n",
    "plt.show()"
   ]
  },
  {
   "cell_type": "code",
   "execution_count": 112,
   "metadata": {},
   "outputs": [],
   "source": [
    "word_centroid_map_doc = dict(zip(doc_2_vec.wv.index2word, label ))"
   ]
  },
  {
   "cell_type": "code",
   "execution_count": 113,
   "metadata": {},
   "outputs": [],
   "source": [
    "values_word_centroid_doc = list(word_centroid_map_doc.values())"
   ]
  },
  {
   "cell_type": "code",
   "execution_count": 114,
   "metadata": {},
   "outputs": [],
   "source": [
    "keys_word_centroid_doc = list(word_centroid_map_doc.keys())"
   ]
  },
  {
   "cell_type": "code",
   "execution_count": 115,
   "metadata": {},
   "outputs": [
    {
     "name": "stdout",
     "output_type": "stream",
     "text": [
      "\n",
      "Cluster 0\n",
      "['work', 'employee', 'organisation', 'business', 'time', 'client', 'care', 'value', 'new', 'organization', 'team', 'take', 'company', 'issue', 'also', 'leadership', 'change', 'need', 'give', 'growth', 'management', 'make', 'internet', 'get', 'face', 'opportunity', 'grow', 'market', 'lot', 'challenge', 'good', 'home', 'help', 'like', 'always', 'well', 'require', 'nothing', 'online', 'one', 'top', 'senior', 'call', 'due', 'way', 'meeting', 'deal', 'connectivity', 'personal', 'every', 'performance', 'focus', 'set', 'leader', 'support', 'process', 'great', 'thing', 'communication', 'provide', 'feel', 'problem', 'connection', 'find', 'member', 'product', 'place', 'high', 'much', 'best', 'think', 'person', 'space', 'go', 'would', 'sometimes', 'since', 'long', 'level', 'many', 'term', 'culture', 'manager', 'professional', 'come', 'respect', 'individual', 'goal', 'keep', 'development', 'understand', 'difficult', 'believe', 'dont', 'access', 'mobile', 'option', 'achieve', 'available', 'important', 'first', 'hence', 'manner', 'strong', '1', '3', 'year', 'however', 'towards', 'big', 'try', 'perform', 'effective', 'accountability', 'family', 'decision', 'must', 'share', 'office', 'use', 'situation', 'debt', 'compare', 'life', 'see', 'customer', 'bandwidth', 'firm', 'know', 'n', 'responsibility', 'colleague', 'resolve', 'experience', 'enough', 'vision', 'clear', 'along', 'today', 'earlier', 'discussion', 'execution', 'demand', 'faster', 'across', 'information', 'idea', 'far', 'within', 'becomes', 'video', 'meet', 'network', 'net', 'transaction', 'still', 'strongly', 'various', 'start', 'vertical', 'touch', 'covid', 'structure', 'manage', 'really', 'stand', 'result', 'approach', 'key', 'balance', 'pandemic', 'effort', 'advisory', 'future', 'offering', 'position', 'spent', 'department', 'extremely', 'promoter', 'infrastructure', 'lead', 'enable', 'complete', 'human', 'maintain', 'r', 'build', 'immense', 'platform', 'show', 'mind', 'environment', 'old', 'flexibility', 'last', 'improve', 'another', 'brand', 'etc', 'point', 'nature', 'software', 'tech', '2', 'communicate', 'become', 'quick', 'external', 'talk', 'shall', 'program', 'base', 'recognition', 'others', 'synergy', 'do', 'timely', 'end', 'matter', 'encourage', 'without', 'earn', 'interaction', 'bottom', 'party', 'stay', 'current', 'initially', 'physical', 'increase', 'smooth', 'coordination', 'kid', 'distraction', 'disconnect', 'single', 'wifi', 'smoothly', 'phone', 'ask', 'ready', 'path', 'there', 'right', 'delivery', 'felt', 'bos', 'medium', 'equity', 'freedom', 'timing', 'loyalty', 'bring', 'truly', 'trouble', 'resource', 'hand', 'satisfaction', 'even', 'regularly', 'hr', 'reporting', 'centric', 'critical', 'portfolio', 'together', 'look', 'low', 'middle']\n",
      "\n",
      "Cluster 1\n",
      "['learn', 'us', 'role', 'recognize']\n",
      "\n",
      "Cluster 2\n",
      "['choose']\n",
      "\n",
      "Cluster 3\n",
      "['people']\n",
      "\n",
      "Cluster 4\n",
      "['day', 'attitude']\n"
     ]
    }
   ],
   "source": [
    "for cluster in range(0,n_clusters): \n",
    "    print (\"\\nCluster %d\" % cluster)\n",
    "    docs = []\n",
    "    for i in range(0,len(word_centroid_map_doc.values())):\n",
    "        if( values_word_centroid_doc[i] == cluster ):\n",
    "            docs.append(keys_word_centroid_doc[i])\n",
    "    print (docs)"
   ]
  },
  {
   "cell_type": "code",
   "execution_count": null,
   "metadata": {},
   "outputs": [],
   "source": []
  }
 ],
 "metadata": {
  "kernelspec": {
   "display_name": "Python 3",
   "language": "python",
   "name": "python3"
  },
  "language_info": {
   "codemirror_mode": {
    "name": "ipython",
    "version": 3
   },
   "file_extension": ".py",
   "mimetype": "text/x-python",
   "name": "python",
   "nbconvert_exporter": "python",
   "pygments_lexer": "ipython3",
   "version": "3.8.3"
  }
 },
 "nbformat": 4,
 "nbformat_minor": 4
}
